{
  "nbformat": 4,
  "nbformat_minor": 0,
  "metadata": {
    "kernelspec": {
      "display_name": "Python 3",
      "language": "python",
      "name": "python3"
    },
    "language_info": {
      "codemirror_mode": {
        "name": "ipython",
        "version": 3
      },
      "file_extension": ".py",
      "mimetype": "text/x-python",
      "name": "python",
      "nbconvert_exporter": "python",
      "pygments_lexer": "ipython3",
      "version": "3.7.4"
    },
    "colab": {
      "name": "Demo GraphSAGE.ipynb",
      "provenance": [],
      "collapsed_sections": []
    }
  },
  "cells": [
    {
      "cell_type": "markdown",
      "metadata": {
        "id": "ISpeME5KHprN"
      },
      "source": [
        "# Demo: Pipeline with GraphSAGE"
      ]
    },
    {
      "cell_type": "code",
      "metadata": {
        "id": "Q1OJaW7EHt4r"
      },
      "source": [
        "#!pip install inductiveGRL "
      ],
      "execution_count": 15,
      "outputs": []
    },
    {
      "cell_type": "markdown",
      "metadata": {
        "id": "2YglsK0fHprQ"
      },
      "source": [
        "Two global parameters need to be defined for this pipeline. The embedding size of graphsage's embeddings, and a boolean variable 'add additional data'. The latter is set to True so that the original transaction node data is added to the embeddings before classifications are made by our downstream classifier. It is advised to set this parameter to true, given that transaction features have proven to be very useful in traditional fraud detection. "
      ]
    },
    {
      "cell_type": "code",
      "metadata": {
        "id": "W7MoeBUcHprS"
      },
      "source": [
        "# Global parameters:\n",
        "embedding_size = 64\n",
        "add_additional_data = True"
      ],
      "execution_count": 2,
      "outputs": []
    },
    {
      "cell_type": "markdown",
      "metadata": {
        "id": "VbwW2kaUHpra"
      },
      "source": [
        "### 1. Loading the Credit Card Transaction Data"
      ]
    },
    {
      "cell_type": "markdown",
      "metadata": {
        "id": "NSNhEUnNHprb"
      },
      "source": [
        "Load numeric, artificially generated transaction data. "
      ]
    },
    {
      "cell_type": "code",
      "metadata": {
        "id": "M2606H4CHprd",
        "colab": {
          "base_uri": "https://localhost:8080/",
          "height": 236
        },
        "outputId": "a690b12f-9663-4599-fc47-84dd071b16c9"
      },
      "source": [
        "import pandas as pd \n",
        "\n",
        "url=\"https://raw.githubusercontent.com/Charlesvandamme/Inductive-Graph-Representation-Learning-for-Fraud-Detection/master/Demo/demo_ccf.csv\"\n",
        "df = pd.read_csv(url)\n",
        "df.head()"
      ],
      "execution_count": 4,
      "outputs": [
        {
          "output_type": "execute_result",
          "data": {
            "text/plain": [
              "   index     1000  1001  client_node  merchant_node    1004  1005  1006  1007  \\\n",
              "0  11340   487.50     1        58744          91818  100499     1     1     8   \n",
              "1  15175  1191.97     1        62913          91951  100532     1     1     9   \n",
              "2  49559   231.79     0        72066         100382  100530     1     1    15   \n",
              "3  25254    12.35     0        71679          96509  100809     1     1    11   \n",
              "4  25354    58.37     0        71749          91760  100484     1     1    11   \n",
              "\n",
              "   1008  ...  1104  1105  1106  1107  1108  1109  1110  1111  1112  \\\n",
              "0     9  ...     0     0     0     0     0     0     0     0     0   \n",
              "1    23  ...     0     0     0     0     0     0     0     0     0   \n",
              "2    57  ...     0     0     0     0     0     0     0     0     0   \n",
              "3    23  ...     0     0     0     0     1     0     0     0     0   \n",
              "4    24  ...     0     0     0     0     0     0     0     0     0   \n",
              "\n",
              "   fraud_label  \n",
              "0            1  \n",
              "1            0  \n",
              "2            1  \n",
              "3            1  \n",
              "4            0  \n",
              "\n",
              "[5 rows x 115 columns]"
            ],
            "text/html": [
              "\n",
              "  <div id=\"df-657b36e1-fd30-4274-80b5-d4554201afa5\">\n",
              "    <div class=\"colab-df-container\">\n",
              "      <div>\n",
              "<style scoped>\n",
              "    .dataframe tbody tr th:only-of-type {\n",
              "        vertical-align: middle;\n",
              "    }\n",
              "\n",
              "    .dataframe tbody tr th {\n",
              "        vertical-align: top;\n",
              "    }\n",
              "\n",
              "    .dataframe thead th {\n",
              "        text-align: right;\n",
              "    }\n",
              "</style>\n",
              "<table border=\"1\" class=\"dataframe\">\n",
              "  <thead>\n",
              "    <tr style=\"text-align: right;\">\n",
              "      <th></th>\n",
              "      <th>index</th>\n",
              "      <th>1000</th>\n",
              "      <th>1001</th>\n",
              "      <th>client_node</th>\n",
              "      <th>merchant_node</th>\n",
              "      <th>1004</th>\n",
              "      <th>1005</th>\n",
              "      <th>1006</th>\n",
              "      <th>1007</th>\n",
              "      <th>1008</th>\n",
              "      <th>...</th>\n",
              "      <th>1104</th>\n",
              "      <th>1105</th>\n",
              "      <th>1106</th>\n",
              "      <th>1107</th>\n",
              "      <th>1108</th>\n",
              "      <th>1109</th>\n",
              "      <th>1110</th>\n",
              "      <th>1111</th>\n",
              "      <th>1112</th>\n",
              "      <th>fraud_label</th>\n",
              "    </tr>\n",
              "  </thead>\n",
              "  <tbody>\n",
              "    <tr>\n",
              "      <th>0</th>\n",
              "      <td>11340</td>\n",
              "      <td>487.50</td>\n",
              "      <td>1</td>\n",
              "      <td>58744</td>\n",
              "      <td>91818</td>\n",
              "      <td>100499</td>\n",
              "      <td>1</td>\n",
              "      <td>1</td>\n",
              "      <td>8</td>\n",
              "      <td>9</td>\n",
              "      <td>...</td>\n",
              "      <td>0</td>\n",
              "      <td>0</td>\n",
              "      <td>0</td>\n",
              "      <td>0</td>\n",
              "      <td>0</td>\n",
              "      <td>0</td>\n",
              "      <td>0</td>\n",
              "      <td>0</td>\n",
              "      <td>0</td>\n",
              "      <td>1</td>\n",
              "    </tr>\n",
              "    <tr>\n",
              "      <th>1</th>\n",
              "      <td>15175</td>\n",
              "      <td>1191.97</td>\n",
              "      <td>1</td>\n",
              "      <td>62913</td>\n",
              "      <td>91951</td>\n",
              "      <td>100532</td>\n",
              "      <td>1</td>\n",
              "      <td>1</td>\n",
              "      <td>9</td>\n",
              "      <td>23</td>\n",
              "      <td>...</td>\n",
              "      <td>0</td>\n",
              "      <td>0</td>\n",
              "      <td>0</td>\n",
              "      <td>0</td>\n",
              "      <td>0</td>\n",
              "      <td>0</td>\n",
              "      <td>0</td>\n",
              "      <td>0</td>\n",
              "      <td>0</td>\n",
              "      <td>0</td>\n",
              "    </tr>\n",
              "    <tr>\n",
              "      <th>2</th>\n",
              "      <td>49559</td>\n",
              "      <td>231.79</td>\n",
              "      <td>0</td>\n",
              "      <td>72066</td>\n",
              "      <td>100382</td>\n",
              "      <td>100530</td>\n",
              "      <td>1</td>\n",
              "      <td>1</td>\n",
              "      <td>15</td>\n",
              "      <td>57</td>\n",
              "      <td>...</td>\n",
              "      <td>0</td>\n",
              "      <td>0</td>\n",
              "      <td>0</td>\n",
              "      <td>0</td>\n",
              "      <td>0</td>\n",
              "      <td>0</td>\n",
              "      <td>0</td>\n",
              "      <td>0</td>\n",
              "      <td>0</td>\n",
              "      <td>1</td>\n",
              "    </tr>\n",
              "    <tr>\n",
              "      <th>3</th>\n",
              "      <td>25254</td>\n",
              "      <td>12.35</td>\n",
              "      <td>0</td>\n",
              "      <td>71679</td>\n",
              "      <td>96509</td>\n",
              "      <td>100809</td>\n",
              "      <td>1</td>\n",
              "      <td>1</td>\n",
              "      <td>11</td>\n",
              "      <td>23</td>\n",
              "      <td>...</td>\n",
              "      <td>0</td>\n",
              "      <td>0</td>\n",
              "      <td>0</td>\n",
              "      <td>0</td>\n",
              "      <td>1</td>\n",
              "      <td>0</td>\n",
              "      <td>0</td>\n",
              "      <td>0</td>\n",
              "      <td>0</td>\n",
              "      <td>1</td>\n",
              "    </tr>\n",
              "    <tr>\n",
              "      <th>4</th>\n",
              "      <td>25354</td>\n",
              "      <td>58.37</td>\n",
              "      <td>0</td>\n",
              "      <td>71749</td>\n",
              "      <td>91760</td>\n",
              "      <td>100484</td>\n",
              "      <td>1</td>\n",
              "      <td>1</td>\n",
              "      <td>11</td>\n",
              "      <td>24</td>\n",
              "      <td>...</td>\n",
              "      <td>0</td>\n",
              "      <td>0</td>\n",
              "      <td>0</td>\n",
              "      <td>0</td>\n",
              "      <td>0</td>\n",
              "      <td>0</td>\n",
              "      <td>0</td>\n",
              "      <td>0</td>\n",
              "      <td>0</td>\n",
              "      <td>0</td>\n",
              "    </tr>\n",
              "  </tbody>\n",
              "</table>\n",
              "<p>5 rows × 115 columns</p>\n",
              "</div>\n",
              "      <button class=\"colab-df-convert\" onclick=\"convertToInteractive('df-657b36e1-fd30-4274-80b5-d4554201afa5')\"\n",
              "              title=\"Convert this dataframe to an interactive table.\"\n",
              "              style=\"display:none;\">\n",
              "        \n",
              "  <svg xmlns=\"http://www.w3.org/2000/svg\" height=\"24px\"viewBox=\"0 0 24 24\"\n",
              "       width=\"24px\">\n",
              "    <path d=\"M0 0h24v24H0V0z\" fill=\"none\"/>\n",
              "    <path d=\"M18.56 5.44l.94 2.06.94-2.06 2.06-.94-2.06-.94-.94-2.06-.94 2.06-2.06.94zm-11 1L8.5 8.5l.94-2.06 2.06-.94-2.06-.94L8.5 2.5l-.94 2.06-2.06.94zm10 10l.94 2.06.94-2.06 2.06-.94-2.06-.94-.94-2.06-.94 2.06-2.06.94z\"/><path d=\"M17.41 7.96l-1.37-1.37c-.4-.4-.92-.59-1.43-.59-.52 0-1.04.2-1.43.59L10.3 9.45l-7.72 7.72c-.78.78-.78 2.05 0 2.83L4 21.41c.39.39.9.59 1.41.59.51 0 1.02-.2 1.41-.59l7.78-7.78 2.81-2.81c.8-.78.8-2.07 0-2.86zM5.41 20L4 18.59l7.72-7.72 1.47 1.35L5.41 20z\"/>\n",
              "  </svg>\n",
              "      </button>\n",
              "      \n",
              "  <style>\n",
              "    .colab-df-container {\n",
              "      display:flex;\n",
              "      flex-wrap:wrap;\n",
              "      gap: 12px;\n",
              "    }\n",
              "\n",
              "    .colab-df-convert {\n",
              "      background-color: #E8F0FE;\n",
              "      border: none;\n",
              "      border-radius: 50%;\n",
              "      cursor: pointer;\n",
              "      display: none;\n",
              "      fill: #1967D2;\n",
              "      height: 32px;\n",
              "      padding: 0 0 0 0;\n",
              "      width: 32px;\n",
              "    }\n",
              "\n",
              "    .colab-df-convert:hover {\n",
              "      background-color: #E2EBFA;\n",
              "      box-shadow: 0px 1px 2px rgba(60, 64, 67, 0.3), 0px 1px 3px 1px rgba(60, 64, 67, 0.15);\n",
              "      fill: #174EA6;\n",
              "    }\n",
              "\n",
              "    [theme=dark] .colab-df-convert {\n",
              "      background-color: #3B4455;\n",
              "      fill: #D2E3FC;\n",
              "    }\n",
              "\n",
              "    [theme=dark] .colab-df-convert:hover {\n",
              "      background-color: #434B5C;\n",
              "      box-shadow: 0px 1px 3px 1px rgba(0, 0, 0, 0.15);\n",
              "      filter: drop-shadow(0px 1px 2px rgba(0, 0, 0, 0.3));\n",
              "      fill: #FFFFFF;\n",
              "    }\n",
              "  </style>\n",
              "\n",
              "      <script>\n",
              "        const buttonEl =\n",
              "          document.querySelector('#df-657b36e1-fd30-4274-80b5-d4554201afa5 button.colab-df-convert');\n",
              "        buttonEl.style.display =\n",
              "          google.colab.kernel.accessAllowed ? 'block' : 'none';\n",
              "\n",
              "        async function convertToInteractive(key) {\n",
              "          const element = document.querySelector('#df-657b36e1-fd30-4274-80b5-d4554201afa5');\n",
              "          const dataTable =\n",
              "            await google.colab.kernel.invokeFunction('convertToInteractive',\n",
              "                                                     [key], {});\n",
              "          if (!dataTable) return;\n",
              "\n",
              "          const docLinkHtml = 'Like what you see? Visit the ' +\n",
              "            '<a target=\"_blank\" href=https://colab.research.google.com/notebooks/data_table.ipynb>data table notebook</a>'\n",
              "            + ' to learn more about interactive tables.';\n",
              "          element.innerHTML = '';\n",
              "          dataTable['output_type'] = 'display_data';\n",
              "          await google.colab.output.renderOutput(dataTable, element);\n",
              "          const docLink = document.createElement('div');\n",
              "          docLink.innerHTML = docLinkHtml;\n",
              "          element.appendChild(docLink);\n",
              "        }\n",
              "      </script>\n",
              "    </div>\n",
              "  </div>\n",
              "  "
            ]
          },
          "metadata": {},
          "execution_count": 4
        }
      ]
    },
    {
      "cell_type": "markdown",
      "metadata": {
        "id": "JMMqRouKHprk"
      },
      "source": [
        "the `train_data` variable stores the data that will be used to construct graphs on which the representation learners can train. \n",
        "the `inductive_data` will be used to test the inductive performance of our representation learning algorithms."
      ]
    },
    {
      "cell_type": "code",
      "metadata": {
        "id": "lLEuNdKOHprm"
      },
      "source": [
        "cutoff = round(0.6*len(df)) # first 60% of transactions are used for training, last 40% to test inductive capability\n",
        "train_data = df.head(cutoff)\n",
        "inductive_data = df.tail(len(df)-cutoff)"
      ],
      "execution_count": 5,
      "outputs": []
    },
    {
      "cell_type": "code",
      "metadata": {
        "id": "9Ta9_Fl_Hprt",
        "colab": {
          "base_uri": "https://localhost:8080/"
        },
        "outputId": "1ac56d1d-b9f6-4034-c79d-461f61f34416"
      },
      "source": [
        "print('The distribution of fraud for the train data is:\\n', train_data['fraud_label'].value_counts())\n",
        "print('The distribution of fraud for the inductive data is:\\n', inductive_data['fraud_label'].value_counts())"
      ],
      "execution_count": 6,
      "outputs": [
        {
          "output_type": "stream",
          "name": "stdout",
          "text": [
            "The distribution of fraud for the train data is:\n",
            " 0    482\n",
            "1    164\n",
            "Name: fraud_label, dtype: int64\n",
            "The distribution of fraud for the inductive data is:\n",
            " 0    327\n",
            "1    103\n",
            "Name: fraud_label, dtype: int64\n"
          ]
        }
      ]
    },
    {
      "cell_type": "markdown",
      "metadata": {
        "id": "tEwzg744Hpr1"
      },
      "source": [
        "### 2. Construct the Credit Card Transaction Network"
      ]
    },
    {
      "cell_type": "markdown",
      "metadata": {
        "id": "yOvZSmNSHpr2"
      },
      "source": [
        "nodes, edges and features are passed to the GraphConstruction constructor. Note that client and merchant node data hold a trivial attribute with value 1. This because we want all the relevant transaction data to reside at the transaction nodes and StellarGraph's current HinSAGE implementation requires all nodes to have features. "
      ]
    },
    {
      "cell_type": "code",
      "metadata": {
        "scrolled": false,
        "id": "JOrlLu1lHpr4",
        "colab": {
          "base_uri": "https://localhost:8080/"
        },
        "outputId": "aca27509-881c-4ab8-d3b2-2127a86d35f2"
      },
      "source": [
        "from inductiveGRL.graphconstruction import GraphConstruction\n",
        "\n",
        "transaction_node_data = train_data.drop(\"client_node\", axis=1).drop(\"merchant_node\", axis=1).drop(\"fraud_label\", axis=1).drop('index', axis=1)\n",
        "client_node_data = pd.DataFrame([1]*len(train_data.client_node.unique())).set_index(train_data.client_node.unique())\n",
        "merchant_node_data = pd.DataFrame([1]*len(train_data.merchant_node.unique())).set_index(train_data.merchant_node.unique())\n",
        "\n",
        "nodes = {\"client\":train_data.client_node, \"merchant\":train_data.merchant_node, \"transaction\":train_data.index}\n",
        "edges = [zip(train_data.client_node, train_data.index),zip(train_data.merchant_node, train_data.index)]\n",
        "features = {\"transaction\": transaction_node_data, 'client': client_node_data, 'merchant': merchant_node_data}\n",
        "\n",
        "graph = GraphConstruction(nodes, edges, features)\n",
        "S = graph.get_stellargraph()\n",
        "print(S.info())"
      ],
      "execution_count": 7,
      "outputs": [
        {
          "output_type": "stream",
          "name": "stdout",
          "text": [
            "StellarGraph: Undirected multigraph\n",
            " Nodes: 1525, Edges: 1292\n",
            "\n",
            " Node types:\n",
            "  transaction: [646]\n",
            "    Features: float32 vector, length 111\n",
            "    Edge types: transaction-default->client, transaction-default->merchant\n",
            "  client: [533]\n",
            "    Features: float32 vector, length 1\n",
            "    Edge types: client-default->transaction\n",
            "  merchant: [346]\n",
            "    Features: float32 vector, length 1\n",
            "    Edge types: merchant-default->transaction\n",
            "\n",
            " Edge types:\n",
            "    merchant-default->transaction: [646]\n",
            "        Weights: all 1 (default)\n",
            "        Features: none\n",
            "    client-default->transaction: [646]\n",
            "        Weights: all 1 (default)\n",
            "        Features: none\n"
          ]
        }
      ]
    },
    {
      "cell_type": "markdown",
      "metadata": {
        "id": "iumtGE5uHpsA"
      },
      "source": [
        "## 2.1. Train GraphSAGE"
      ]
    },
    {
      "cell_type": "markdown",
      "metadata": {
        "id": "2fYCMPlgHpsB"
      },
      "source": [
        "HinSAGE, a heterogeneous implementation of the GraphSAGE framework is trained with user specified hyperparameters."
      ]
    },
    {
      "cell_type": "code",
      "metadata": {
        "id": "scJS_o1OHpsC",
        "colab": {
          "base_uri": "https://localhost:8080/"
        },
        "outputId": "8b1d56ed-65fb-4c2a-9e77-9ae927dc8a33"
      },
      "source": [
        "from inductiveGRL.hinsage import HinSAGE_Representation_Learner\n",
        "\n",
        "#GraphSAGE parameters\n",
        "num_samples = [2,32]\n",
        "embedding_node_type = \"transaction\"\n",
        "\n",
        "hinsage = HinSAGE_Representation_Learner(embedding_size, num_samples, embedding_node_type)\n",
        "trained_hinsage_model, train_emb = hinsage.train_hinsage(S, list(train_data.index), train_data['fraud_label'], batch_size=5, epochs=10)"
      ],
      "execution_count": 8,
      "outputs": [
        {
          "output_type": "stream",
          "name": "stderr",
          "text": [
            "/usr/local/lib/python3.7/dist-packages/keras/optimizer_v2/adam.py:105: UserWarning: The `lr` argument is deprecated, use `learning_rate` instead.\n",
            "  super(Adam, self).__init__(name, **kwargs)\n"
          ]
        },
        {
          "output_type": "stream",
          "name": "stdout",
          "text": [
            "Epoch 1/10\n",
            "104/104 [==============================] - 3s 11ms/step - loss: 0.5855 - val_loss: 0.5609\n",
            "Epoch 2/10\n",
            "104/104 [==============================] - 1s 7ms/step - loss: 0.5700 - val_loss: 0.5609\n",
            "Epoch 3/10\n",
            "104/104 [==============================] - 1s 7ms/step - loss: 0.5692 - val_loss: 0.5616\n",
            "Epoch 4/10\n",
            "104/104 [==============================] - 1s 7ms/step - loss: 0.5702 - val_loss: 0.5619\n",
            "Epoch 5/10\n",
            "104/104 [==============================] - 1s 7ms/step - loss: 0.5696 - val_loss: 0.5604\n",
            "Epoch 6/10\n",
            "104/104 [==============================] - 1s 6ms/step - loss: 0.5698 - val_loss: 0.5605\n",
            "Epoch 7/10\n",
            "104/104 [==============================] - 1s 7ms/step - loss: 0.5692 - val_loss: 0.5608\n",
            "Epoch 8/10\n",
            "104/104 [==============================] - 1s 6ms/step - loss: 0.5696 - val_loss: 0.5604\n",
            "Epoch 9/10\n",
            "104/104 [==============================] - 1s 6ms/step - loss: 0.5688 - val_loss: 0.5604\n",
            "Epoch 10/10\n",
            "104/104 [==============================] - 1s 6ms/step - loss: 0.5688 - val_loss: 0.5606\n"
          ]
        }
      ]
    },
    {
      "cell_type": "markdown",
      "metadata": {
        "id": "iAvh9o_mHpsI"
      },
      "source": [
        "## 2.2. Inductive Step GraphSAGE"
      ]
    },
    {
      "cell_type": "markdown",
      "metadata": {
        "id": "ARS-IfnSHpsI"
      },
      "source": [
        "We want to keep the original indices after concatenating the train and inductive data, because they represent the transaction node ids. We need to concatenate these dataframes in order to easily construct the new graph."
      ]
    },
    {
      "cell_type": "code",
      "metadata": {
        "id": "Yus-lT8bHpsJ"
      },
      "source": [
        "pd.options.mode.chained_assignment = None\n",
        "\n",
        "train_data['index'] = train_data.index\n",
        "inductive_data['index'] = inductive_data.index\n",
        "inductive_graph_data = pd.concat((train_data,inductive_data))\n",
        "inductive_graph_data = inductive_graph_data.set_index(inductive_graph_data['index']).drop(\"index\",axis = 1)"
      ],
      "execution_count": 9,
      "outputs": []
    },
    {
      "cell_type": "markdown",
      "metadata": {
        "id": "_YvzjVdCHpsN"
      },
      "source": [
        "For the inductive step, we need to add the new, unseen transactions to the graph. Because the current StellarGraph implementation does not support adding nodes and edges to an existing stellargraph object, we create a new graph that contains all the nodes from the train graph in addition to the new nodes."
      ]
    },
    {
      "cell_type": "code",
      "metadata": {
        "id": "c_nNhD3KHpsN",
        "colab": {
          "base_uri": "https://localhost:8080/"
        },
        "outputId": "d65cc65f-3343-4592-ae09-c50513aa9521"
      },
      "source": [
        "transaction_node_data = inductive_graph_data.drop(\"client_node\", axis=1).drop(\"merchant_node\", axis=1).drop(\"fraud_label\", axis=1)\n",
        "client_node_data = pd.DataFrame([1]*len(inductive_graph_data.client_node.unique())).set_index(inductive_graph_data.client_node.unique())\n",
        "merchant_node_data = pd.DataFrame([1]*len(inductive_graph_data.merchant_node.unique())).set_index(inductive_graph_data.merchant_node.unique())\n",
        "\n",
        "nodes = {\"client\":inductive_graph_data.client_node, \"merchant\":inductive_graph_data.merchant_node, \"transaction\":inductive_graph_data.index}\n",
        "edges = [zip(inductive_graph_data.client_node, inductive_graph_data.index),zip(inductive_graph_data.merchant_node, inductive_graph_data.index)]\n",
        "features = {\"transaction\": transaction_node_data, 'client': client_node_data, 'merchant': merchant_node_data}\n",
        "\n",
        "graph = GraphConstruction(nodes, edges, features)\n",
        "S = graph.get_stellargraph()\n",
        "print(S.info())"
      ],
      "execution_count": 10,
      "outputs": [
        {
          "output_type": "stream",
          "name": "stdout",
          "text": [
            "StellarGraph: Undirected multigraph\n",
            " Nodes: 2444, Edges: 2152\n",
            "\n",
            " Node types:\n",
            "  transaction: [1076]\n",
            "    Features: float32 vector, length 111\n",
            "    Edge types: transaction-default->client, transaction-default->merchant\n",
            "  client: [872]\n",
            "    Features: float32 vector, length 1\n",
            "    Edge types: client-default->transaction\n",
            "  merchant: [496]\n",
            "    Features: float32 vector, length 1\n",
            "    Edge types: merchant-default->transaction\n",
            "\n",
            " Edge types:\n",
            "    merchant-default->transaction: [1076]\n",
            "        Weights: all 1 (default)\n",
            "        Features: none\n",
            "    client-default->transaction: [1076]\n",
            "        Weights: all 1 (default)\n",
            "        Features: none\n"
          ]
        }
      ]
    },
    {
      "cell_type": "markdown",
      "metadata": {
        "id": "zHnKkWY8HpsQ"
      },
      "source": [
        "The inductive step applies the previously learned (and optimized) aggregation functions, part of the `trained_hinsage_model`. We also pass the new graph S and the node identifiers (inductive_data.index) to the inductive step. "
      ]
    },
    {
      "cell_type": "code",
      "metadata": {
        "id": "3KzBWqDeHpsR",
        "colab": {
          "base_uri": "https://localhost:8080/"
        },
        "outputId": "195b9f04-7217-4ecd-c5da-97a67feba9da"
      },
      "source": [
        "inductive_emb = hinsage.inductive_step_hinsage(S, trained_hinsage_model, inductive_data.index, batch_size=5)"
      ],
      "execution_count": 11,
      "outputs": [
        {
          "output_type": "stream",
          "name": "stdout",
          "text": [
            "86/86 [==============================] - 1s 5ms/step\n"
          ]
        }
      ]
    },
    {
      "cell_type": "markdown",
      "metadata": {
        "id": "qU4XiF21HpsU"
      },
      "source": [
        "### 4. Classification: predictions based on inductive embeddings"
      ]
    },
    {
      "cell_type": "markdown",
      "metadata": {
        "id": "YD6cZUBJHpsU"
      },
      "source": [
        "Select your preferred classification model"
      ]
    },
    {
      "cell_type": "code",
      "metadata": {
        "id": "yR3Y0utZHpsV"
      },
      "source": [
        "from xgboost import XGBClassifier\n",
        "classifier = XGBClassifier(n_estimators=100)"
      ],
      "execution_count": 12,
      "outputs": []
    },
    {
      "cell_type": "markdown",
      "metadata": {
        "id": "8VRm3HOhHpsY"
      },
      "source": [
        "If requested, the original transaction features are added to the generated embeddings. If these features are added, a baseline consisting of only these features (without embeddings) is included to analyze the net impact of embeddings on the predictive performance."
      ]
    },
    {
      "cell_type": "code",
      "metadata": {
        "id": "PUS6wpHxHpsY"
      },
      "source": [
        "train_labels = train_data['fraud_label']\n",
        "\n",
        "if add_additional_data is True:\n",
        "    train_emb = pd.merge(train_emb, train_data.loc[train_emb.index].drop('fraud_label', axis=1), left_index=True, right_index=True)\n",
        "    inductive_emb = pd.merge(inductive_emb, inductive_data.loc[inductive_emb.index].drop('fraud_label', axis=1), left_index=True, right_index=True)\n",
        "\n",
        "    baseline_train = train_data.drop('fraud_label', axis=1)\n",
        "    baseline_inductive = inductive_data.drop('fraud_label', axis=1)\n",
        "\n",
        "    classifier.fit(baseline_train, train_labels)\n",
        "    baseline_predictions = classifier.predict_proba(baseline_inductive)\n",
        "    \n",
        "classifier.fit(train_emb, train_labels)\n",
        "predictions = classifier.predict_proba(inductive_emb)\n"
      ],
      "execution_count": 13,
      "outputs": []
    },
    {
      "cell_type": "markdown",
      "metadata": {
        "id": "cB19y-X4Hpsb"
      },
      "source": [
        "### 5. Evaluation"
      ]
    },
    {
      "cell_type": "markdown",
      "metadata": {
        "id": "5U_rOHXAHpsb"
      },
      "source": [
        "Given the highly imbalanced nature of our dataset, we evaluate the results based on precision-recall curves. "
      ]
    },
    {
      "cell_type": "code",
      "metadata": {
        "scrolled": false,
        "id": "Btgrm2pvHpsc",
        "colab": {
          "base_uri": "https://localhost:8080/",
          "height": 314
        },
        "outputId": "76ebd9d9-1c8b-4ff2-a778-bbaa95ee4389"
      },
      "source": [
        "from inductiveGRL.evaluation import Evaluation\n",
        "inductive_labels = df.loc[inductive_emb.index]['fraud_label']\n",
        "\n",
        "graphsage_evaluation = Evaluation(predictions, inductive_labels, \"GraphSAGE+features\") \n",
        "graphsage_evaluation.pr_curve()\n",
        "\n",
        "if add_additional_data is True:\n",
        "    baseline_evaluation = Evaluation(baseline_predictions, inductive_labels, \"Baseline\")\n",
        "    baseline_evaluation.pr_curve()"
      ],
      "execution_count": 14,
      "outputs": [
        {
          "output_type": "stream",
          "name": "stdout",
          "text": [
            "Average precision-recall score XGBoost: 0.8697331109\n",
            "Average precision-recall score XGBoost: 0.8225008566\n"
          ]
        },
        {
          "output_type": "display_data",
          "data": {
            "text/plain": [
              "<Figure size 432x288 with 1 Axes>"
            ],
            "image/png": "[encoded data removed]"
          },
          "metadata": {
            "needs_background": "light"
          }
        }
      ]
    }
  ]
}